{
 "cells": [
  {
   "cell_type": "markdown",
   "id": "dfde62af-4618-40fe-8144-43a1cee41b57",
   "metadata": {},
   "source": [
    "<h2>Request API</h2>\n",
    "<p>Melakukan call API untuk melakukan scraping</p>"
   ]
  },
  {
   "cell_type": "code",
   "execution_count": 1,
   "id": "3f8ea6d1-5fe7-40dc-bf3a-ca0502ded4d3",
   "metadata": {},
   "outputs": [],
   "source": [
    "import requests\n",
    "import json\n",
    "from tqdm import tqdm\n",
    "\n",
    "api_url = 'http://192.168.1.4:8001/news'\n",
    "token = 'dev'\n",
    "\n",
    "def get_news(limit_pages, liga):\n",
    "    url = f'https://www.bola.net/{liga}/'\n",
    "    sub_url = '/scraping_bola_net'\n",
    "    r = requests.get(f'{api_url}{sub_url}?url={url}&limit_pages={limit_pages}',\n",
    "        headers={\n",
    "            'X-Api-Token': f'{token}',\n",
    "        }\n",
    "    )\n",
    "    return r\n",
    "\n",
    "def save_detail_news(url):\n",
    "    sub_url = '/scraping_detail_bola_net'\n",
    "    r = requests.get(f'{api_url}{sub_url}?url={url}',\n",
    "        headers={\n",
    "            'X-Api-Token': f'{token}',\n",
    "        }\n",
    "    )\n",
    "    return r\n",
    "\n",
    "def index():\n",
    "    r = requests.get(f'{api_url}',\n",
    "        headers={\n",
    "            'X-Api-Token': f'{token}',\n",
    "        }\n",
    "    )\n",
    "    return r\n",
    "\n",
    "def show(id):\n",
    "    r = requests.get(f'{api_url}/{id}',\n",
    "        headers={\n",
    "            'X-Api-Token': f'{token}',\n",
    "        }\n",
    "    )\n",
    "    return r"
   ]
  },
  {
   "cell_type": "markdown",
   "id": "230cd689-139d-43be-9940-ac2cd1963117",
   "metadata": {},
   "source": [
    "<h2>Main Client</h2>\n",
    "<p>client side untuk scraping dan menyimpan log</p>"
   ]
  },
  {
   "cell_type": "code",
   "execution_count": 2,
   "id": "a683af66-9fe0-4d1f-b282-b43ab5ae02c9",
   "metadata": {},
   "outputs": [],
   "source": [
    "def listNews():\n",
    "    with open('log/log_scrap.txt', 'a') as f:\n",
    "        liga = 'inggris' #pilihan liga: inggris | italia | spanyol | champions | uefa | bundesliga | liga_eropa_lain\n",
    "        list_news = get_news(20, liga)\n",
    "        if list_news.status_code == 200:\n",
    "            list_news = list_news.json()\n",
    "            f.write(\"%s\" % '*'*100)\n",
    "            f.write(\"\\n%s\\n\" % f\"URL        : {list_news['url']}\")\n",
    "            f.write(\"%s\\n\" % f\"Status     : {list_news['status']}\")\n",
    "            f.write(\"%s\\n\" % f\"Total      : {list_news['total']}\")\n",
    "            f.write(\"%s\\n\" % f\"Message    : {list_news['message']}\")\n",
    "            f.write(\"%s\\n\" % f\"Time start : {list_news['time_start']}\")\n",
    "            f.write(\"%s\\n\" % f\"Time end   : {list_news['time_end']}\")\n",
    "            f.write(\"%s\" % '*'*100)\n",
    "            f.write(\"\\n%s\" % '')\n",
    "        else:\n",
    "            f.write(\"%s\" % '*'*100)\n",
    "            f.write(\"\\n%s\\n\" % f\"Failed call API\")\n",
    "            f.write(\"%s\" % '*'*100)\n",
    "            f.write(\"\\n%s\" % '')\n",
    "    return list_news\n",
    "\n",
    "def saveDetail(list_news):\n",
    "    with open('log/log_save.txt', 'a') as f:\n",
    "        for news in tqdm(list_news, 'Save'):\n",
    "            detail_news = save_detail_news(news['url'])\n",
    "            if detail_news.status_code == 200:\n",
    "                detail_news = detail_news.json()\n",
    "                f.write(\"%s\" % '*'*100)\n",
    "                f.write(\"\\n%s\\n\" % f\"URL     : {detail_news['url']}\")\n",
    "                f.write(\"%s\\n\" % f\"Message : {detail_news['message']}\")\n",
    "                f.write(\"%s\" % '*'*100)\n",
    "                f.write(\"\\n%s\" % '')\n",
    "            else:\n",
    "                f.write(\"%s\" % '*'*100)\n",
    "                f.write(\"\\n%s\\n\" % f\"Failed call API\")\n",
    "                f.write(\"%s\" % '*'*100)\n",
    "                f.write(\"\\n%s\" % '')\n",
    "            \n",
    "def main():\n",
    "    list_news = listNews()\n",
    "    saveDetail(list_news['data'])"
   ]
  },
  {
   "cell_type": "markdown",
   "id": "937bea55-623d-4ff3-aa89-78eab7ec2fc4",
   "metadata": {},
   "source": [
    "<h2>Schedule</h2>\n",
    "<p>menjalankan client side setiap 30 menit</p>"
   ]
  },
  {
   "cell_type": "code",
   "execution_count": 3,
   "id": "60020ae4-cb1e-4f31-a461-b5b89b455b66",
   "metadata": {},
   "outputs": [
    {
     "name": "stderr",
     "output_type": "stream",
     "text": [
      "Save: 100%|██████████| 600/600 [02:28<00:00,  4.05it/s]\n"
     ]
    },
    {
     "ename": "KeyboardInterrupt",
     "evalue": "",
     "output_type": "error",
     "traceback": [
      "\u001b[0;31m---------------------------------------------------------------------------\u001b[0m",
      "\u001b[0;31mKeyboardInterrupt\u001b[0m                         Traceback (most recent call last)",
      "\u001b[0;32m/tmp/ipykernel_115/2648538061.py\u001b[0m in \u001b[0;36m<module>\u001b[0;34m\u001b[0m\n\u001b[1;32m      5\u001b[0m \u001b[0;32mwhile\u001b[0m \u001b[0;32mTrue\u001b[0m\u001b[0;34m:\u001b[0m\u001b[0;34m\u001b[0m\u001b[0;34m\u001b[0m\u001b[0m\n\u001b[1;32m      6\u001b[0m     \u001b[0mschedule\u001b[0m\u001b[0;34m.\u001b[0m\u001b[0mrun_pending\u001b[0m\u001b[0;34m(\u001b[0m\u001b[0;34m)\u001b[0m\u001b[0;34m\u001b[0m\u001b[0;34m\u001b[0m\u001b[0m\n\u001b[0;32m----> 7\u001b[0;31m     \u001b[0mtime\u001b[0m\u001b[0;34m.\u001b[0m\u001b[0msleep\u001b[0m\u001b[0;34m(\u001b[0m\u001b[0;36m1\u001b[0m\u001b[0;34m)\u001b[0m\u001b[0;34m\u001b[0m\u001b[0;34m\u001b[0m\u001b[0m\n\u001b[0m",
      "\u001b[0;31mKeyboardInterrupt\u001b[0m: "
     ]
    }
   ],
   "source": [
    "import schedule\n",
    "import time\n",
    "\n",
    "schedule.every(30).minutes.do(main)\n",
    "while True:\n",
    "    schedule.run_pending()\n",
    "    time.sleep(1)"
   ]
  },
  {
   "cell_type": "markdown",
   "id": "bda8f9bd-ba3b-464b-9670-996393f40231",
   "metadata": {},
   "source": [
    "<h3>More</h3> "
   ]
  },
  {
   "cell_type": "code",
   "execution_count": null,
   "id": "2f8a4f2a-09f5-42f6-b36a-2b2637aa5c3e",
   "metadata": {},
   "outputs": [],
   "source": [
    "index().json()"
   ]
  },
  {
   "cell_type": "code",
   "execution_count": null,
   "id": "5bb5bfed-c88a-43eb-b258-7ef6e00af21e",
   "metadata": {},
   "outputs": [],
   "source": [
    "show('efd2dd8d1f3f0e0cb6c24c140447535e').json()"
   ]
  }
 ],
 "metadata": {
  "kernelspec": {
   "display_name": "Python 3 (ipykernel)",
   "language": "python",
   "name": "python3"
  },
  "language_info": {
   "codemirror_mode": {
    "name": "ipython",
    "version": 3
   },
   "file_extension": ".py",
   "mimetype": "text/x-python",
   "name": "python",
   "nbconvert_exporter": "python",
   "pygments_lexer": "ipython3",
   "version": "3.9.7"
  }
 },
 "nbformat": 4,
 "nbformat_minor": 5
}
